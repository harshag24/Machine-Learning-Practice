{
  "nbformat": 4,
  "nbformat_minor": 0,
  "metadata": {
    "colab": {
      "name": "Dance_Hackerearth.ipynb",
      "provenance": [],
      "collapsed_sections": []
    },
    "kernelspec": {
      "name": "python3",
      "display_name": "Python 3"
    },
    "accelerator": "GPU"
  },
  "cells": [
    {
      "cell_type": "code",
      "metadata": {
        "id": "aIQUj-ktCVRL",
        "colab_type": "code",
        "colab": {}
      },
      "source": [
        "import os\n",
        "import zipfile\n",
        "\n",
        "local_zip='/content/dataset.zip'\n",
        "zip_ref=zipfile.ZipFile(local_zip,'r')\n",
        "zip_ref.extractall('/content/')\n",
        "zip_ref.close()"
      ],
      "execution_count": null,
      "outputs": []
    },
    {
      "cell_type": "code",
      "metadata": {
        "id": "RwFm1LfREH7d",
        "colab_type": "code",
        "colab": {}
      },
      "source": [
        "import tensorflow as tf\n",
        "from tensorflow.keras.optimizers import RMSprop\n",
        "from tensorflow.keras.preprocessing.image import ImageDataGenerator\n"
      ],
      "execution_count": null,
      "outputs": []
    },
    {
      "cell_type": "code",
      "metadata": {
        "id": "mrK4HoZFGVDw",
        "colab_type": "code",
        "colab": {}
      },
      "source": [
        "train_data_gen=ImageDataGenerator(rescale=1/255,\n",
        "                                  rotation_range=30,\n",
        "                                  height_shift_range=0.2,\n",
        "                                  width_shift_range=0.2,\n",
        "                                  shear_range=0.6,\n",
        "                                  zoom_range=0.2,\n",
        "                                  horizontal_flip=True,\n",
        "                                  fill_mode='nearest')\n",
        "test_data_gen=ImageDataGenerator(rescale=1/255)"
      ],
      "execution_count": null,
      "outputs": []
    },
    {
      "cell_type": "code",
      "metadata": {
        "id": "tmaerR47Gck8",
        "colab_type": "code",
        "colab": {}
      },
      "source": [
        "import pandas as pd\n",
        "train_df=pd.read_csv('/content/dataset/train.csv')\n",
        "test_df=pd.read_csv('/content/dataset/test.csv')\n"
      ],
      "execution_count": null,
      "outputs": []
    },
    {
      "cell_type": "code",
      "metadata": {
        "id": "JhYrvTvqIspk",
        "colab_type": "code",
        "colab": {
          "base_uri": "https://localhost:8080/",
          "height": 194
        },
        "outputId": "877b0061-81dc-425f-84cf-ddc9db77b884"
      },
      "source": [
        "test_df.head()"
      ],
      "execution_count": null,
      "outputs": [
        {
          "output_type": "execute_result",
          "data": {
            "text/html": [
              "<div>\n",
              "<style scoped>\n",
              "    .dataframe tbody tr th:only-of-type {\n",
              "        vertical-align: middle;\n",
              "    }\n",
              "\n",
              "    .dataframe tbody tr th {\n",
              "        vertical-align: top;\n",
              "    }\n",
              "\n",
              "    .dataframe thead th {\n",
              "        text-align: right;\n",
              "    }\n",
              "</style>\n",
              "<table border=\"1\" class=\"dataframe\">\n",
              "  <thead>\n",
              "    <tr style=\"text-align: right;\">\n",
              "      <th></th>\n",
              "      <th>Image</th>\n",
              "    </tr>\n",
              "  </thead>\n",
              "  <tbody>\n",
              "    <tr>\n",
              "      <th>0</th>\n",
              "      <td>508.jpg</td>\n",
              "    </tr>\n",
              "    <tr>\n",
              "      <th>1</th>\n",
              "      <td>246.jpg</td>\n",
              "    </tr>\n",
              "    <tr>\n",
              "      <th>2</th>\n",
              "      <td>473.jpg</td>\n",
              "    </tr>\n",
              "    <tr>\n",
              "      <th>3</th>\n",
              "      <td>485.jpg</td>\n",
              "    </tr>\n",
              "    <tr>\n",
              "      <th>4</th>\n",
              "      <td>128.jpg</td>\n",
              "    </tr>\n",
              "  </tbody>\n",
              "</table>\n",
              "</div>"
            ],
            "text/plain": [
              "     Image\n",
              "0  508.jpg\n",
              "1  246.jpg\n",
              "2  473.jpg\n",
              "3  485.jpg\n",
              "4  128.jpg"
            ]
          },
          "metadata": {
            "tags": []
          },
          "execution_count": 5
        }
      ]
    },
    {
      "cell_type": "code",
      "metadata": {
        "id": "z7W7E1dVHNVv",
        "colab_type": "code",
        "colab": {
          "base_uri": "https://localhost:8080/",
          "height": 52
        },
        "outputId": "055d204b-e754-4f13-dd12-3d20dee82240"
      },
      "source": [
        "train_generator=train_data_gen.flow_from_dataframe(dataframe=train_df,directory='/content/dataset/train',\n",
        "                                                   x_col='Image',\n",
        "                                                   y_col='target',\n",
        "                                                   target_size=(224,224),\n",
        "                                                   class_mode='categorical',\n",
        "                                                   batch_size=32,shuffle=True)\n",
        "\n",
        "test_generator=test_data_gen.flow_from_dataframe(dataframe=test_df,directory='/content/dataset/test',\n",
        "                                                 x_col='Image',\n",
        "                                                 y_col=None,\n",
        "                                                   target_size=(224,224),\n",
        "                                                   class_mode=None,\n",
        "                                                   batch_size=32,shuffle=False)"
      ],
      "execution_count": null,
      "outputs": [
        {
          "output_type": "stream",
          "text": [
            "Found 364 validated image filenames belonging to 8 classes.\n",
            "Found 156 validated image filenames.\n"
          ],
          "name": "stdout"
        }
      ]
    },
    {
      "cell_type": "code",
      "metadata": {
        "id": "LtpuUBvSJ11L",
        "colab_type": "code",
        "colab": {}
      },
      "source": [
        "import tensorflow_datasets as tfds"
      ],
      "execution_count": null,
      "outputs": []
    },
    {
      "cell_type": "code",
      "metadata": {
        "id": "TNVBfbSLUhPg",
        "colab_type": "code",
        "colab": {}
      },
      "source": [
        "import tensorflow_hub as hub\n",
        "\n",
        "URL = \"https://tfhub.dev/google/tf2-preview/mobilenet_v2/feature_vector/4\" #https://tfhub.dev/google/tf2-preview/inception_v3/feature_vector/4\n",
        "feature_extractor = hub.KerasLayer(URL, input_shape=(224, 224 ,3))\n",
        "feature_extractor.trainable = False\n",
        "\n"
      ],
      "execution_count": null,
      "outputs": []
    },
    {
      "cell_type": "code",
      "metadata": {
        "id": "uLzpDecGVlYZ",
        "colab_type": "code",
        "colab": {
          "base_uri": "https://localhost:8080/",
          "height": 230
        },
        "outputId": "4074f525-b9e0-4045-a95a-3b107ebc148e"
      },
      "source": [
        "model=tf.keras.Sequential([\n",
        "                           feature_extractor,\n",
        "                           tf.keras.layers.Dense(8,activation='softmax')\n",
        "])\n",
        "model.summary()"
      ],
      "execution_count": null,
      "outputs": [
        {
          "output_type": "stream",
          "text": [
            "Model: \"sequential_10\"\n",
            "_________________________________________________________________\n",
            "Layer (type)                 Output Shape              Param #   \n",
            "=================================================================\n",
            "keras_layer (KerasLayer)     (None, 1280)              2257984   \n",
            "_________________________________________________________________\n",
            "dense_15 (Dense)             (None, 8)                 10248     \n",
            "=================================================================\n",
            "Total params: 2,268,232\n",
            "Trainable params: 10,248\n",
            "Non-trainable params: 2,257,984\n",
            "_________________________________________________________________\n"
          ],
          "name": "stdout"
        }
      ]
    },
    {
      "cell_type": "code",
      "metadata": {
        "id": "eeosmtOJPBqS",
        "colab_type": "code",
        "colab": {}
      },
      "source": [
        "model.compile(optimizer=tf.optimizers.Adam(),loss='categorical_crossentropy',metrics=['accuracy'])"
      ],
      "execution_count": null,
      "outputs": []
    },
    {
      "cell_type": "code",
      "metadata": {
        "id": "6MYGNukhPZQ0",
        "colab_type": "code",
        "colab": {
          "base_uri": "https://localhost:8080/",
          "height": 1000
        },
        "outputId": "4bf1133e-c8db-4014-87c5-642e1af1e5c8"
      },
      "source": [
        "history = model.fit(train_generator , epochs=100 ,steps_per_epoch=train_generator.n//train_generator.batch_size)"
      ],
      "execution_count": null,
      "outputs": [
        {
          "output_type": "stream",
          "text": [
            "Epoch 1/100\n",
            "11/11 [==============================] - 4s 404ms/step - loss: 2.4555 - accuracy: 0.1145\n",
            "Epoch 2/100\n",
            "11/11 [==============================] - 4s 404ms/step - loss: 2.3071 - accuracy: 0.1295\n",
            "Epoch 3/100\n",
            "11/11 [==============================] - 5s 411ms/step - loss: 2.1549 - accuracy: 0.1717\n",
            "Epoch 4/100\n",
            "11/11 [==============================] - 4s 406ms/step - loss: 2.1173 - accuracy: 0.1867\n",
            "Epoch 5/100\n",
            "11/11 [==============================] - 4s 394ms/step - loss: 2.0971 - accuracy: 0.2078\n",
            "Epoch 6/100\n",
            "11/11 [==============================] - 4s 405ms/step - loss: 2.0150 - accuracy: 0.2289\n",
            "Epoch 7/100\n",
            "11/11 [==============================] - 4s 398ms/step - loss: 1.9767 - accuracy: 0.2440\n",
            "Epoch 8/100\n",
            "11/11 [==============================] - 5s 442ms/step - loss: 1.9047 - accuracy: 0.3102\n",
            "Epoch 9/100\n",
            "11/11 [==============================] - 4s 394ms/step - loss: 1.8459 - accuracy: 0.3343\n",
            "Epoch 10/100\n",
            "11/11 [==============================] - 4s 401ms/step - loss: 1.8635 - accuracy: 0.2952\n",
            "Epoch 11/100\n",
            "11/11 [==============================] - 5s 430ms/step - loss: 1.7712 - accuracy: 0.3313\n",
            "Epoch 12/100\n",
            "11/11 [==============================] - 5s 413ms/step - loss: 1.7937 - accuracy: 0.3494\n",
            "Epoch 13/100\n",
            "11/11 [==============================] - 4s 405ms/step - loss: 1.6786 - accuracy: 0.4096\n",
            "Epoch 14/100\n",
            "11/11 [==============================] - 5s 410ms/step - loss: 1.6509 - accuracy: 0.4066\n",
            "Epoch 15/100\n",
            "11/11 [==============================] - 4s 394ms/step - loss: 1.6729 - accuracy: 0.4036\n",
            "Epoch 16/100\n",
            "11/11 [==============================] - 5s 438ms/step - loss: 1.5967 - accuracy: 0.4347\n",
            "Epoch 17/100\n",
            "11/11 [==============================] - 5s 420ms/step - loss: 1.5747 - accuracy: 0.4489\n",
            "Epoch 18/100\n",
            "11/11 [==============================] - 5s 430ms/step - loss: 1.5483 - accuracy: 0.4773\n",
            "Epoch 19/100\n",
            "11/11 [==============================] - 4s 404ms/step - loss: 1.5298 - accuracy: 0.4880\n",
            "Epoch 20/100\n",
            "11/11 [==============================] - 4s 407ms/step - loss: 1.4747 - accuracy: 0.4880\n",
            "Epoch 21/100\n",
            "11/11 [==============================] - 4s 403ms/step - loss: 1.4905 - accuracy: 0.5060\n",
            "Epoch 22/100\n",
            "11/11 [==============================] - 4s 406ms/step - loss: 1.4203 - accuracy: 0.5120\n",
            "Epoch 23/100\n",
            "11/11 [==============================] - 5s 416ms/step - loss: 1.4254 - accuracy: 0.5301\n",
            "Epoch 24/100\n",
            "11/11 [==============================] - 5s 415ms/step - loss: 1.3884 - accuracy: 0.5542\n",
            "Epoch 25/100\n",
            "11/11 [==============================] - 5s 423ms/step - loss: 1.3636 - accuracy: 0.5151\n",
            "Epoch 26/100\n",
            "11/11 [==============================] - 5s 438ms/step - loss: 1.3448 - accuracy: 0.5881\n",
            "Epoch 27/100\n",
            "11/11 [==============================] - 5s 427ms/step - loss: 1.3036 - accuracy: 0.5824\n",
            "Epoch 28/100\n",
            "11/11 [==============================] - 5s 415ms/step - loss: 1.3490 - accuracy: 0.5813\n",
            "Epoch 29/100\n",
            "11/11 [==============================] - 5s 440ms/step - loss: 1.3114 - accuracy: 0.5572\n",
            "Epoch 30/100\n",
            "11/11 [==============================] - 5s 423ms/step - loss: 1.2310 - accuracy: 0.6084\n",
            "Epoch 31/100\n",
            "11/11 [==============================] - 5s 427ms/step - loss: 1.2226 - accuracy: 0.6024\n",
            "Epoch 32/100\n",
            "11/11 [==============================] - 5s 422ms/step - loss: 1.2355 - accuracy: 0.6205\n",
            "Epoch 33/100\n",
            "11/11 [==============================] - 5s 432ms/step - loss: 1.2285 - accuracy: 0.6392\n",
            "Epoch 34/100\n",
            "11/11 [==============================] - 5s 423ms/step - loss: 1.2075 - accuracy: 0.6054\n",
            "Epoch 35/100\n",
            "11/11 [==============================] - 5s 417ms/step - loss: 1.1791 - accuracy: 0.6386\n",
            "Epoch 36/100\n",
            "11/11 [==============================] - 4s 398ms/step - loss: 1.1716 - accuracy: 0.6205\n",
            "Epoch 37/100\n",
            "11/11 [==============================] - 5s 413ms/step - loss: 1.1276 - accuracy: 0.6898\n",
            "Epoch 38/100\n",
            "11/11 [==============================] - 4s 385ms/step - loss: 1.1902 - accuracy: 0.6386\n",
            "Epoch 39/100\n",
            "11/11 [==============================] - 4s 384ms/step - loss: 1.1459 - accuracy: 0.6596\n",
            "Epoch 40/100\n",
            "11/11 [==============================] - 5s 441ms/step - loss: 1.1065 - accuracy: 0.6818\n",
            "Epoch 41/100\n",
            "11/11 [==============================] - 5s 433ms/step - loss: 1.1082 - accuracy: 0.6562\n",
            "Epoch 42/100\n",
            "11/11 [==============================] - 5s 423ms/step - loss: 1.0360 - accuracy: 0.6717\n",
            "Epoch 43/100\n",
            "11/11 [==============================] - 5s 437ms/step - loss: 1.0758 - accuracy: 0.6898\n",
            "Epoch 44/100\n",
            "11/11 [==============================] - 4s 400ms/step - loss: 1.0400 - accuracy: 0.6747\n",
            "Epoch 45/100\n",
            "11/11 [==============================] - 5s 409ms/step - loss: 1.0252 - accuracy: 0.6928\n",
            "Epoch 46/100\n",
            "11/11 [==============================] - 4s 399ms/step - loss: 1.0436 - accuracy: 0.6687\n",
            "Epoch 47/100\n",
            "11/11 [==============================] - 4s 409ms/step - loss: 1.0240 - accuracy: 0.7108\n",
            "Epoch 48/100\n",
            "11/11 [==============================] - 5s 419ms/step - loss: 0.9843 - accuracy: 0.6958\n",
            "Epoch 49/100\n",
            "11/11 [==============================] - 4s 400ms/step - loss: 1.0183 - accuracy: 0.6687\n",
            "Epoch 50/100\n",
            "11/11 [==============================] - 5s 413ms/step - loss: 1.0200 - accuracy: 0.6566\n",
            "Epoch 51/100\n",
            "11/11 [==============================] - 5s 446ms/step - loss: 0.9809 - accuracy: 0.7108\n",
            "Epoch 52/100\n",
            "11/11 [==============================] - 5s 415ms/step - loss: 0.9668 - accuracy: 0.7139\n",
            "Epoch 53/100\n",
            "11/11 [==============================] - 4s 408ms/step - loss: 0.9507 - accuracy: 0.7319\n",
            "Epoch 54/100\n",
            "11/11 [==============================] - 5s 416ms/step - loss: 0.8855 - accuracy: 0.7681\n",
            "Epoch 55/100\n",
            "11/11 [==============================] - 5s 409ms/step - loss: 0.9284 - accuracy: 0.7470\n",
            "Epoch 56/100\n",
            "11/11 [==============================] - 4s 409ms/step - loss: 0.9145 - accuracy: 0.7319\n",
            "Epoch 57/100\n",
            "11/11 [==============================] - 4s 408ms/step - loss: 0.9360 - accuracy: 0.7078\n",
            "Epoch 58/100\n",
            "11/11 [==============================] - 5s 416ms/step - loss: 0.9127 - accuracy: 0.7440\n",
            "Epoch 59/100\n",
            "11/11 [==============================] - 5s 411ms/step - loss: 0.9005 - accuracy: 0.7500\n",
            "Epoch 60/100\n",
            "11/11 [==============================] - 5s 410ms/step - loss: 0.8679 - accuracy: 0.7530\n",
            "Epoch 61/100\n",
            "11/11 [==============================] - 5s 436ms/step - loss: 0.8776 - accuracy: 0.7386\n",
            "Epoch 62/100\n",
            "11/11 [==============================] - 4s 404ms/step - loss: 0.8782 - accuracy: 0.7440\n",
            "Epoch 63/100\n",
            "11/11 [==============================] - 5s 415ms/step - loss: 0.9017 - accuracy: 0.7139\n",
            "Epoch 64/100\n",
            "11/11 [==============================] - 5s 433ms/step - loss: 0.8628 - accuracy: 0.7590\n",
            "Epoch 65/100\n",
            "11/11 [==============================] - 4s 404ms/step - loss: 0.8682 - accuracy: 0.7440\n",
            "Epoch 66/100\n",
            "11/11 [==============================] - 5s 444ms/step - loss: 0.8247 - accuracy: 0.7831\n",
            "Epoch 67/100\n",
            "11/11 [==============================] - 5s 436ms/step - loss: 0.8124 - accuracy: 0.7922\n",
            "Epoch 68/100\n",
            "11/11 [==============================] - 4s 399ms/step - loss: 0.8706 - accuracy: 0.7651\n",
            "Epoch 69/100\n",
            "11/11 [==============================] - 4s 389ms/step - loss: 0.8239 - accuracy: 0.7681\n",
            "Epoch 70/100\n",
            "11/11 [==============================] - 4s 405ms/step - loss: 0.7614 - accuracy: 0.8133\n",
            "Epoch 71/100\n",
            "11/11 [==============================] - 5s 416ms/step - loss: 0.7943 - accuracy: 0.8072\n",
            "Epoch 72/100\n",
            "11/11 [==============================] - 5s 412ms/step - loss: 0.7631 - accuracy: 0.8283\n",
            "Epoch 73/100\n",
            "11/11 [==============================] - 5s 421ms/step - loss: 0.7893 - accuracy: 0.7771\n",
            "Epoch 74/100\n",
            "11/11 [==============================] - 5s 414ms/step - loss: 0.7856 - accuracy: 0.7922\n",
            "Epoch 75/100\n",
            "11/11 [==============================] - 5s 410ms/step - loss: 0.7964 - accuracy: 0.7892\n",
            "Epoch 76/100\n",
            "11/11 [==============================] - 5s 422ms/step - loss: 0.7957 - accuracy: 0.7620\n",
            "Epoch 77/100\n",
            "11/11 [==============================] - 5s 411ms/step - loss: 0.7724 - accuracy: 0.7861\n",
            "Epoch 78/100\n",
            "11/11 [==============================] - 5s 411ms/step - loss: 0.7631 - accuracy: 0.7771\n",
            "Epoch 79/100\n",
            "11/11 [==============================] - 4s 399ms/step - loss: 0.7604 - accuracy: 0.8042\n",
            "Epoch 80/100\n",
            "11/11 [==============================] - 4s 408ms/step - loss: 0.7516 - accuracy: 0.8012\n",
            "Epoch 81/100\n",
            "11/11 [==============================] - 5s 455ms/step - loss: 0.7670 - accuracy: 0.7955\n",
            "Epoch 82/100\n",
            "11/11 [==============================] - 5s 417ms/step - loss: 0.7372 - accuracy: 0.8193\n",
            "Epoch 83/100\n",
            "11/11 [==============================] - 5s 412ms/step - loss: 0.7205 - accuracy: 0.8253\n",
            "Epoch 84/100\n",
            "11/11 [==============================] - 5s 418ms/step - loss: 0.7216 - accuracy: 0.8072\n",
            "Epoch 85/100\n",
            "11/11 [==============================] - 4s 404ms/step - loss: 0.7574 - accuracy: 0.8042\n",
            "Epoch 86/100\n",
            "11/11 [==============================] - 5s 417ms/step - loss: 0.7522 - accuracy: 0.7952\n",
            "Epoch 87/100\n",
            "11/11 [==============================] - 5s 424ms/step - loss: 0.7006 - accuracy: 0.8163\n",
            "Epoch 88/100\n",
            "11/11 [==============================] - 5s 420ms/step - loss: 0.7257 - accuracy: 0.8102\n",
            "Epoch 89/100\n",
            "11/11 [==============================] - 5s 417ms/step - loss: 0.7106 - accuracy: 0.8223\n",
            "Epoch 90/100\n",
            "11/11 [==============================] - 4s 402ms/step - loss: 0.6825 - accuracy: 0.8193\n",
            "Epoch 91/100\n",
            "11/11 [==============================] - 5s 414ms/step - loss: 0.7085 - accuracy: 0.8102\n",
            "Epoch 92/100\n",
            "11/11 [==============================] - 4s 392ms/step - loss: 0.6848 - accuracy: 0.8223\n",
            "Epoch 93/100\n",
            "11/11 [==============================] - 5s 431ms/step - loss: 0.6991 - accuracy: 0.8352\n",
            "Epoch 94/100\n",
            "11/11 [==============================] - 4s 404ms/step - loss: 0.7120 - accuracy: 0.8042\n",
            "Epoch 95/100\n",
            "11/11 [==============================] - 4s 402ms/step - loss: 0.7004 - accuracy: 0.8193\n",
            "Epoch 96/100\n",
            "11/11 [==============================] - 5s 440ms/step - loss: 0.6595 - accuracy: 0.8438\n",
            "Epoch 97/100\n",
            "11/11 [==============================] - 5s 429ms/step - loss: 0.6720 - accuracy: 0.8352\n",
            "Epoch 98/100\n",
            "11/11 [==============================] - 5s 410ms/step - loss: 0.7093 - accuracy: 0.8042\n",
            "Epoch 99/100\n",
            "11/11 [==============================] - 4s 401ms/step - loss: 0.6875 - accuracy: 0.8193\n",
            "Epoch 100/100\n",
            "11/11 [==============================] - 4s 399ms/step - loss: 0.6566 - accuracy: 0.8253\n"
          ],
          "name": "stdout"
        }
      ]
    },
    {
      "cell_type": "code",
      "metadata": {
        "id": "vYYAr3JqbD0F",
        "colab_type": "code",
        "colab": {
          "base_uri": "https://localhost:8080/",
          "height": 35
        },
        "outputId": "a7100d6b-8632-4db1-ddb3-40882d22c4e4"
      },
      "source": [
        "print(train_generator.class_indices.items())"
      ],
      "execution_count": null,
      "outputs": [
        {
          "output_type": "stream",
          "text": [
            "dict_items([('bharatanatyam', 0), ('kathak', 1), ('kathakali', 2), ('kuchipudi', 3), ('manipuri', 4), ('mohiniyattam', 5), ('odissi', 6), ('sattriya', 7)])\n"
          ],
          "name": "stdout"
        }
      ]
    },
    {
      "cell_type": "code",
      "metadata": {
        "id": "LLucDOlTb9mR",
        "colab_type": "code",
        "colab": {}
      },
      "source": [
        "test_df['target']=[list(train_generator.class_indices.items())[i][0] for i in model.predict_classes(test_generator).tolist()]"
      ],
      "execution_count": null,
      "outputs": []
    },
    {
      "cell_type": "code",
      "metadata": {
        "id": "dc_sqpFVdxmn",
        "colab_type": "code",
        "colab": {
          "base_uri": "https://localhost:8080/",
          "height": 194
        },
        "outputId": "904627d3-81ae-4401-aa65-79c821898297"
      },
      "source": [
        "test_df.head()"
      ],
      "execution_count": null,
      "outputs": [
        {
          "output_type": "execute_result",
          "data": {
            "text/html": [
              "<div>\n",
              "<style scoped>\n",
              "    .dataframe tbody tr th:only-of-type {\n",
              "        vertical-align: middle;\n",
              "    }\n",
              "\n",
              "    .dataframe tbody tr th {\n",
              "        vertical-align: top;\n",
              "    }\n",
              "\n",
              "    .dataframe thead th {\n",
              "        text-align: right;\n",
              "    }\n",
              "</style>\n",
              "<table border=\"1\" class=\"dataframe\">\n",
              "  <thead>\n",
              "    <tr style=\"text-align: right;\">\n",
              "      <th></th>\n",
              "      <th>Image</th>\n",
              "      <th>target</th>\n",
              "    </tr>\n",
              "  </thead>\n",
              "  <tbody>\n",
              "    <tr>\n",
              "      <th>0</th>\n",
              "      <td>508.jpg</td>\n",
              "      <td>kuchipudi</td>\n",
              "    </tr>\n",
              "    <tr>\n",
              "      <th>1</th>\n",
              "      <td>246.jpg</td>\n",
              "      <td>odissi</td>\n",
              "    </tr>\n",
              "    <tr>\n",
              "      <th>2</th>\n",
              "      <td>473.jpg</td>\n",
              "      <td>bharatanatyam</td>\n",
              "    </tr>\n",
              "    <tr>\n",
              "      <th>3</th>\n",
              "      <td>485.jpg</td>\n",
              "      <td>kuchipudi</td>\n",
              "    </tr>\n",
              "    <tr>\n",
              "      <th>4</th>\n",
              "      <td>128.jpg</td>\n",
              "      <td>bharatanatyam</td>\n",
              "    </tr>\n",
              "  </tbody>\n",
              "</table>\n",
              "</div>"
            ],
            "text/plain": [
              "     Image         target\n",
              "0  508.jpg      kuchipudi\n",
              "1  246.jpg         odissi\n",
              "2  473.jpg  bharatanatyam\n",
              "3  485.jpg      kuchipudi\n",
              "4  128.jpg  bharatanatyam"
            ]
          },
          "metadata": {
            "tags": []
          },
          "execution_count": 72
        }
      ]
    },
    {
      "cell_type": "code",
      "metadata": {
        "id": "84q7EAR5d0gU",
        "colab_type": "code",
        "colab": {}
      },
      "source": [
        "test_df.to_csv('/content/submission.csv',index=False)"
      ],
      "execution_count": null,
      "outputs": []
    },
    {
      "cell_type": "code",
      "metadata": {
        "id": "XqqpahpnedwO",
        "colab_type": "code",
        "colab": {}
      },
      "source": [
        ""
      ],
      "execution_count": null,
      "outputs": []
    }
  ]
}